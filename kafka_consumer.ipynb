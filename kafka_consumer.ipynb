{
 "cells": [
  {
   "cell_type": "code",
   "execution_count": 29,
   "metadata": {},
   "outputs": [
    {
     "name": "stdout",
     "output_type": "stream",
     "text": [
      "Message published successfully. Data: {\"userId\": \"j11288090\", \"firstSeen\": 1534382478, \"lastSeen\": 1631603175}\n",
      "Message published successfully. Data: {\"userId\": \"j11288090\", \"firstSeen\": 1534382478, \"lastSeen\": 1631603175}\n",
      "Message published successfully. Data: {\"userId\": \"j11288090\", \"firstSeen\": 1534382478, \"lastSeen\": 1631603175}\n"
     ]
    }
   ],
   "source": [
    "# import statements\n",
    "from time import sleep\n",
    "from kafka import KafkaConsumer\n",
    "from kafka import KafkaProducer\n",
    "import time \n",
    "import json\n",
    "\n",
    "topic = 'input_topic'\n",
    "\n",
    "# connecting to kafka consumer\n",
    "def connect_kafka_consumer():\n",
    "    _consumer = None\n",
    "    try:\n",
    "         _consumer = KafkaConsumer(topic,\n",
    "                                   consumer_timeout_ms=10000,\n",
    "                                   auto_offset_reset='earliest',\n",
    "                                   bootstrap_servers=['localhost:9092'],\n",
    "                                   api_version=(0, 10))\n",
    "    except Exception as ex:\n",
    "        print('Exception while connecting Kafka')\n",
    "        print(str(ex))\n",
    "    finally:\n",
    "        return _consumer\n",
    "\n",
    "# connecting to kafka producer\n",
    "def connect_kafka_producer():\n",
    "    _producer = None\n",
    "    try:\n",
    "        _producer = KafkaProducer(bootstrap_servers=['localhost:9092'],\n",
    "                                  api_version=(0,10))\n",
    "    except Exception as ex:\n",
    "        print('Exception while connecting Kafka.')\n",
    "        print(str(ex))\n",
    "    finally:\n",
    "        return _producer\n",
    "    \n",
    "# publish aggregated payload to output_topic\n",
    "def publish_to_output_topic(producer_instance, output, key):\n",
    "    try:\n",
    "        key_bytes = bytes(key, encoding='utf-8')\n",
    "        value_bytes = bytes(output, encoding='utf-8')\n",
    "        producer_instance.send('output_topic', key=key_bytes, value=value_bytes)\n",
    "        producer_instance.flush()\n",
    "        print('Message published successfully. Data: ' + str(output))\n",
    "    except Exception as ex:\n",
    "        print('Exception in publishing message.')\n",
    "        print(str(ex))\n",
    "\n",
    "# aggregate the data consumed from producer        \n",
    "def aggregate(data):\n",
    "    payload = {\n",
    "        'userId': data['userId'],\n",
    "        'firstSeen': data['metadata']['sentAt'],\n",
    "        'lastSeen': int(time.time())\n",
    "    }\n",
    "    return payload\n",
    "\n",
    "# consume the message and publish it to output_topic\n",
    "def consume_messages(consumer):\n",
    "    try:\n",
    "        for message in consumer:\n",
    "            data = json.loads(message.value.decode('utf-8'))\n",
    "            output = aggregate(data)\n",
    "            producer = connect_kafka_producer()\n",
    "            data = json.dumps(output)\n",
    "            publish_to_output_topic(producer, data, output['userId'])\n",
    "    except Exception as ex:\n",
    "        print(str(ex))\n",
    "    \n",
    "    \n",
    "if __name__ == '__main__':\n",
    "    consumer = connect_kafka_consumer()\n",
    "    consume_messages(consumer)\n",
    "    \n",
    "    "
   ]
  },
  {
   "cell_type": "code",
   "execution_count": null,
   "metadata": {},
   "outputs": [],
   "source": []
  }
 ],
 "metadata": {
  "kernelspec": {
   "display_name": "Python 3",
   "language": "python",
   "name": "python3"
  },
  "language_info": {
   "codemirror_mode": {
    "name": "ipython",
    "version": 3
   },
   "file_extension": ".py",
   "mimetype": "text/x-python",
   "name": "python",
   "nbconvert_exporter": "python",
   "pygments_lexer": "ipython3",
   "version": "3.7.6"
  }
 },
 "nbformat": 4,
 "nbformat_minor": 4
}

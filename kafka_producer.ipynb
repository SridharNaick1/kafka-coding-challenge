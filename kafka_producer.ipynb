{
 "cells": [
  {
   "cell_type": "code",
   "execution_count": null,
   "metadata": {},
   "outputs": [],
   "source": []
  },
  {
   "cell_type": "code",
   "execution_count": 22,
   "metadata": {},
   "outputs": [
    {
     "name": "stdout",
     "output_type": "stream",
     "text": [
      "Publishing records..\n",
      "Message published successfully. Data: {\"userId\": \"j11288090\", \"visitorId\": \"jas8v98171\", \"type\": \"Event\", \"metadata\": {\"messageId\": \"123sfdafas-32487239857dsh98234\", \"sentAt\": 1534382478, \"timestamp\": 1534382478, \"receivedAt\": 0, \"apiKey\": \"apikey1\", \"spaceId\": \"space1\", \"version\": \"v1\"}, \"event\": \"Played Movie\", \"eventData\": {\"MovieID\": \"MIM4ddd4\"}}\n"
     ]
    }
   ],
   "source": [
    "# import statements\n",
    "from time import sleep\n",
    "import json\n",
    "from kafka import KafkaProducer\n",
    "import random\n",
    "\n",
    "# publish message to broker\n",
    "def publish_message(producer_instance, topic_name, key, value):\n",
    "    try:\n",
    "        key_bytes = bytes(key, encoding='utf-8')\n",
    "        value_bytes = bytes(value, encoding='utf-8')\n",
    "        producer_instance.send(topic_name, key=key_bytes, value=value_bytes)\n",
    "        producer_instance.flush()\n",
    "        print('Message published successfully. Data: ' + str(data))\n",
    "    except Exception as ex:\n",
    "        print('Exception in publishing message.')\n",
    "        print(str(ex))\n",
    "        \n",
    "#connect to kafka server\n",
    "def connect_kafka_producer():\n",
    "    _producer = None\n",
    "    try:\n",
    "        _producer = KafkaProducer(bootstrap_servers=['localhost:9092'],\n",
    "                                  api_version=(0,10))\n",
    "    except Exception as ex:\n",
    "        print('Exception while connecting Kafka.')\n",
    "        print(str(ex))\n",
    "    finally:\n",
    "        return _producer\n",
    "    \n",
    "if __name__ == '__main__':\n",
    "    topic = 'input_topic'\n",
    "    data_payload = {\n",
    "        \"userId\":\"j11288090\",\n",
    "        \"visitorId\":\"jas8v98171\",\n",
    "        \"type\":\"Event\",\n",
    "        \"metadata\":{\n",
    "        \"messageId\":\"123sfdafas-32487239857dsh98234\",\n",
    "        \"sentAt\":1534382478,\n",
    "        \"timestamp\":1534382478,\n",
    "        \"receivedAt\":0,\n",
    "        \"apiKey\":\"apikey1\",\n",
    "        \"spaceId\":\"space1\",\n",
    "        \"version\":\"v1\"\n",
    "        },\n",
    "        \"event\":\"Played Movie\",\n",
    "        \"eventData\":{\n",
    "        \"MovieID\":\"MIM4ddd4\"\n",
    "        }\n",
    "    }\n",
    "    print('Publishing records..')\n",
    "    producer = connect_kafka_producer()\n",
    "    data = json.dumps(data_payload)\n",
    "    publish_message(producer, topic, 'input_payload', data)"
   ]
  },
  {
   "cell_type": "code",
   "execution_count": null,
   "metadata": {},
   "outputs": [],
   "source": []
  }
 ],
 "metadata": {
  "kernelspec": {
   "display_name": "Python 3",
   "language": "python",
   "name": "python3"
  },
  "language_info": {
   "codemirror_mode": {
    "name": "ipython",
    "version": 3
   },
   "file_extension": ".py",
   "mimetype": "text/x-python",
   "name": "python",
   "nbconvert_exporter": "python",
   "pygments_lexer": "ipython3",
   "version": "3.7.6"
  }
 },
 "nbformat": 4,
 "nbformat_minor": 4
}

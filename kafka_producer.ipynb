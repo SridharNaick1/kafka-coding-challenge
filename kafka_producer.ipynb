{
 "cells": [
  {
   "cell_type": "code",
   "execution_count": 1,
   "metadata": {},
   "outputs": [
    {
     "name": "stdout",
     "output_type": "stream",
     "text": [
      "Publishing records..\n",
      "Message published successfully. Data: {\"userId\": \"j11223344\", \"visitorId\": \"jas8v98171\", \"type\": \"Event\", \"metadata\": {\"messageId\": \"123sfdafas-32487239857dsh98234\", \"sentAt\": 1631706818, \"timestamp\": 1631706818, \"receivedAt\": 0, \"apiKey\": \"apikey1\", \"spaceId\": \"space1\", \"version\": \"v1\"}, \"event\": \"Played Movie\", \"eventData\": {\"MovieID\": \"MIM4ddd4\"}}\n",
      "Publishing records..\n",
      "Message published successfully. Data: {\"userId\": \"j87654321\", \"visitorId\": \"jas8v98171\", \"type\": \"Event\", \"metadata\": {\"messageId\": \"123sfdafas-32487239857dsh98234\", \"sentAt\": 1631706823, \"timestamp\": 1631706823, \"receivedAt\": 0, \"apiKey\": \"apikey1\", \"spaceId\": \"space1\", \"version\": \"v1\"}, \"event\": \"Played Movie\", \"eventData\": {\"MovieID\": \"MIM4ddd4\"}}\n",
      "Publishing records..\n",
      "Message published successfully. Data: {\"userId\": \"j12345678\", \"visitorId\": \"jas8v98171\", \"type\": \"Event\", \"metadata\": {\"messageId\": \"123sfdafas-32487239857dsh98234\", \"sentAt\": 1631706828, \"timestamp\": 1631706828, \"receivedAt\": 0, \"apiKey\": \"apikey1\", \"spaceId\": \"space1\", \"version\": \"v1\"}, \"event\": \"Played Movie\", \"eventData\": {\"MovieID\": \"MIM4ddd4\"}}\n",
      "Publishing records..\n",
      "Message published successfully. Data: {\"userId\": \"j11223344\", \"visitorId\": \"jas8v98171\", \"type\": \"Event\", \"metadata\": {\"messageId\": \"123sfdafas-32487239857dsh98234\", \"sentAt\": 1631706833, \"timestamp\": 1631706833, \"receivedAt\": 0, \"apiKey\": \"apikey1\", \"spaceId\": \"space1\", \"version\": \"v1\"}, \"event\": \"Played Movie\", \"eventData\": {\"MovieID\": \"MIM4ddd4\"}}\n",
      "Publishing records..\n",
      "Message published successfully. Data: {\"userId\": \"j87654321\", \"visitorId\": \"jas8v98171\", \"type\": \"Event\", \"metadata\": {\"messageId\": \"123sfdafas-32487239857dsh98234\", \"sentAt\": 1631706838, \"timestamp\": 1631706838, \"receivedAt\": 0, \"apiKey\": \"apikey1\", \"spaceId\": \"space1\", \"version\": \"v1\"}, \"event\": \"Played Movie\", \"eventData\": {\"MovieID\": \"MIM4ddd4\"}}\n",
      "Publishing records..\n",
      "Message published successfully. Data: {\"userId\": \"j44332211\", \"visitorId\": \"jas8v98171\", \"type\": \"Event\", \"metadata\": {\"messageId\": \"123sfdafas-32487239857dsh98234\", \"sentAt\": 1631706843, \"timestamp\": 1631706843, \"receivedAt\": 0, \"apiKey\": \"apikey1\", \"spaceId\": \"space1\", \"version\": \"v1\"}, \"event\": \"Played Movie\", \"eventData\": {\"MovieID\": \"MIM4ddd4\"}}\n",
      "Publishing records..\n",
      "Message published successfully. Data: {\"userId\": \"j11223344\", \"visitorId\": \"jas8v98171\", \"type\": \"Event\", \"metadata\": {\"messageId\": \"123sfdafas-32487239857dsh98234\", \"sentAt\": 1631706848, \"timestamp\": 1631706848, \"receivedAt\": 0, \"apiKey\": \"apikey1\", \"spaceId\": \"space1\", \"version\": \"v1\"}, \"event\": \"Played Movie\", \"eventData\": {\"MovieID\": \"MIM4ddd4\"}}\n"
     ]
    },
    {
     "ename": "KeyboardInterrupt",
     "evalue": "",
     "output_type": "error",
     "traceback": [
      "\u001b[1;31m---------------------------------------------------------------------------\u001b[0m",
      "\u001b[1;31mKeyboardInterrupt\u001b[0m                         Traceback (most recent call last)",
      "\u001b[1;32m<ipython-input-1-9f78d28358db>\u001b[0m in \u001b[0;36m<module>\u001b[1;34m\u001b[0m\n\u001b[0;32m     38\u001b[0m         \u001b[0mdata\u001b[0m \u001b[1;33m=\u001b[0m \u001b[0mjson\u001b[0m\u001b[1;33m.\u001b[0m\u001b[0mdumps\u001b[0m\u001b[1;33m(\u001b[0m\u001b[0mpayload\u001b[0m\u001b[1;33m)\u001b[0m\u001b[1;33m\u001b[0m\u001b[1;33m\u001b[0m\u001b[0m\n\u001b[0;32m     39\u001b[0m         \u001b[0mpublish_message\u001b[0m\u001b[1;33m(\u001b[0m\u001b[0mproducer\u001b[0m\u001b[1;33m,\u001b[0m \u001b[0mtopic\u001b[0m\u001b[1;33m,\u001b[0m \u001b[1;34m'input_payload'\u001b[0m\u001b[1;33m,\u001b[0m \u001b[0mdata\u001b[0m\u001b[1;33m)\u001b[0m\u001b[1;33m\u001b[0m\u001b[1;33m\u001b[0m\u001b[0m\n\u001b[1;32m---> 40\u001b[1;33m         \u001b[0msleep\u001b[0m\u001b[1;33m(\u001b[0m\u001b[1;36m5\u001b[0m\u001b[1;33m)\u001b[0m\u001b[1;33m\u001b[0m\u001b[1;33m\u001b[0m\u001b[0m\n\u001b[0m",
      "\u001b[1;31mKeyboardInterrupt\u001b[0m: "
     ]
    }
   ],
   "source": [
    "# import statements\n",
    "from time import sleep\n",
    "import json\n",
    "from kafka import KafkaProducer\n",
    "import random\n",
    "from data import get_payload\n",
    "\n",
    "# publish message to broker\n",
    "def publish_message(producer_instance, topic_name, key, value):\n",
    "    try:\n",
    "        key_bytes = bytes(key, encoding='utf-8')\n",
    "        value_bytes = bytes(value, encoding='utf-8')\n",
    "        producer_instance.send(topic_name, key=key_bytes, value=value_bytes)\n",
    "        producer_instance.flush()\n",
    "        print('Message published successfully. Data: ' + str(data))\n",
    "    except Exception as ex:\n",
    "        print('Exception in publishing message.')\n",
    "        print(str(ex))\n",
    "        \n",
    "#connect to kafka server\n",
    "def connect_kafka_producer():\n",
    "    _producer = None\n",
    "    try:\n",
    "        _producer = KafkaProducer(bootstrap_servers=['localhost:9092'],\n",
    "                                  api_version=(0,10))\n",
    "    except Exception as ex:\n",
    "        print('Exception while connecting Kafka.')\n",
    "        print(str(ex))\n",
    "    finally:\n",
    "        return _producer\n",
    "    \n",
    "if __name__ == '__main__':\n",
    "    topic = 'input_topic'\n",
    "    while True:\n",
    "        payload = get_payload()\n",
    "        print('Publishing records..')\n",
    "        producer = connect_kafka_producer()\n",
    "        data = json.dumps(payload)\n",
    "        publish_message(producer, topic, 'input_payload', data)\n",
    "        sleep(5)"
   ]
  },
  {
   "cell_type": "code",
   "execution_count": null,
   "metadata": {},
   "outputs": [],
   "source": []
  }
 ],
 "metadata": {
  "kernelspec": {
   "display_name": "Python 3",
   "language": "python",
   "name": "python3"
  },
  "language_info": {
   "codemirror_mode": {
    "name": "ipython",
    "version": 3
   },
   "file_extension": ".py",
   "mimetype": "text/x-python",
   "name": "python",
   "nbconvert_exporter": "python",
   "pygments_lexer": "ipython3",
   "version": "3.7.6"
  }
 },
 "nbformat": 4,
 "nbformat_minor": 4
}
